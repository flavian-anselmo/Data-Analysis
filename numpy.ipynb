{
 "cells": [
  {
   "cell_type": "code",
   "execution_count": 11,
   "metadata": {},
   "outputs": [
    {
     "name": "stdout",
     "output_type": "stream",
     "text": [
      "Current numpy version being used::[1.20.3]\n"
     ]
    }
   ],
   "source": [
    "import numpy as np \n",
    "print(\"Current numpy version being used::\"+\"[\"+np.__version__+\"]\")"
   ]
  },
  {
   "cell_type": "markdown",
   "metadata": {},
   "source": [
    "# 1. Numpy [Numerical Python]\n",
    "## 1.1 (Arrays and Vectorized Computation)\n",
    "\n"
   ]
  },
  {
   "cell_type": "code",
   "execution_count": 21,
   "metadata": {},
   "outputs": [],
   "source": [
    "import numpy as np\n",
    "\n",
    "# how to create an array \n",
    "\n",
    "\n",
    "arr = np.array([1,2,3,4,5])\n",
    "\n",
    "\n"
   ]
  },
  {
   "cell_type": "code",
   "execution_count": 18,
   "metadata": {},
   "outputs": [
    {
     "name": "stdout",
     "output_type": "stream",
     "text": [
      "[ 0  1  2  3  4  5  6  7  8  9 10]\n"
     ]
    }
   ],
   "source": [
    "# creating array using arrange \n",
    "\n",
    "arr2 = np.arange(0,11)\n",
    "print(arr2)"
   ]
  },
  {
   "cell_type": "markdown",
   "metadata": {},
   "source": [
    "Numpy is used to work with arrays. The array object in numpy is called [ndarray].\n",
    "narrays are created using the array|() function\n"
   ]
  },
  {
   "cell_type": "code",
   "execution_count": 13,
   "metadata": {},
   "outputs": [
    {
     "name": "stdout",
     "output_type": "stream",
     "text": [
      "<class 'numpy.ndarray'>\n",
      "<class 'numpy.ndarray'>\n"
     ]
    }
   ],
   "source": [
    "print(type(arr2))\n",
    "print(type(arr))"
   ]
  },
  {
   "cell_type": "markdown",
   "metadata": {},
   "source": [
    "## Dimension Arrays \n",
    "0-dim \n",
    "1-dim \n",
    "2-dim \n"
   ]
  },
  {
   "cell_type": "code",
   "execution_count": 6,
   "metadata": {},
   "outputs": [
    {
     "name": "stdout",
     "output_type": "stream",
     "text": [
      "0\n",
      "1\n",
      "2\n",
      "[[1 2 3]\n",
      " [4 5 6]]\n",
      "[[[1 2 3 4 5 6]]]\n"
     ]
    }
   ],
   "source": [
    "import numpy as np \n",
    "a = np.array(8)\n",
    "#array with 0 dimensions \n",
    "print(a.ndim)\n",
    "\n",
    "b = np.array([1,2,3])\n",
    "print(b.ndim)\n",
    "\n",
    "# 2d arrays \n",
    "c = np.array([[1,2,3],[4,5,6]])\n",
    "print(c.ndim)\n",
    "print(c)\n",
    "\n",
    "d = np.array([1,2,3,4,5,6],ndmin=3)\n",
    "print(d)\n",
    "\n",
    "\n"
   ]
  },
  {
   "cell_type": "code",
   "execution_count": 25,
   "metadata": {},
   "outputs": [
    {
     "name": "stdout",
     "output_type": "stream",
     "text": [
      "2\n"
     ]
    },
    {
     "data": {
      "text/plain": [
       "dtype('int64')"
      ]
     },
     "execution_count": 25,
     "metadata": {},
     "output_type": "execute_result"
    }
   ],
   "source": [
    "import numpy as np\n",
    "\n",
    "q=np.array([[0,1,2],[3,4,5]])\n",
    "print(q.ndim)\n",
    "p=np.array([1,2,3],ndmin=2)\n",
    "p.ndim\n",
    "p.shape\n",
    "\n",
    "\"\"\"_summary_\n",
    "An ndarray is a generic multidimensional container for homogeneous data \n",
    "All the elements must be of the same datatype \n",
    "ndarray -- is the object\n",
    "\"\"\"\n",
    "p.dtype# data type \n"
   ]
  },
  {
   "cell_type": "code",
   "execution_count": 35,
   "metadata": {},
   "outputs": [
    {
     "data": {
      "text/plain": [
       "array([2, 4, 6, 8])"
      ]
     },
     "execution_count": 35,
     "metadata": {},
     "output_type": "execute_result"
    }
   ],
   "source": [
    "\"\"\"\n",
    "other ways fof creating arrays \n",
    "zeros \n",
    "arange\n",
    "\"\"\"\n",
    "z = np.zeros(10,dtype=int)\n",
    "# provide the datatype eg int \n",
    "\n",
    "z.dtype\n",
    "\n",
    "r = np.arange(10)\n",
    "r\n",
    "k = np.arange(2,10,2)\n",
    "k"
   ]
  },
  {
   "cell_type": "markdown",
   "metadata": {},
   "source": [
    "##### Dtypes  for ndarrays\n",
    "used to specify the datatype of elements in the arrays \n",
    "The data type or dtype is a special object containing the information the ndarray needs\n",
    "to interpret a chunk of memory as a particular type of data:\n",
    "\n",
    "1. float \n",
    "2. int \n"
   ]
  },
  {
   "cell_type": "code",
   "execution_count": 43,
   "metadata": {},
   "outputs": [
    {
     "data": {
      "text/plain": [
       "dtype('int64')"
      ]
     },
     "execution_count": 43,
     "metadata": {},
     "output_type": "execute_result"
    }
   ],
   "source": [
    "import numpy as np \n",
    "arr =  np.array([1,2,3], dtype=np.int0)\n",
    "arr.dtype\n",
    "arr1 =  np.array([1,2,3], dtype=np.float64)\n",
    "arr.dtype\n"
   ]
  },
  {
   "cell_type": "markdown",
   "metadata": {},
   "source": [
    "### operations with scalars \n",
    "\n",
    "express operations without writing any for loops \n",
    "This is cxalled vectorization \n"
   ]
  },
  {
   "cell_type": "code",
   "execution_count": 52,
   "metadata": {},
   "outputs": [
    {
     "data": {
      "text/plain": [
       "array([6, 7, 8])"
      ]
     },
     "execution_count": 52,
     "metadata": {},
     "output_type": "execute_result"
    }
   ],
   "source": [
    "a = np.array([1,2,3],dtype=\"int0\")\n",
    "b = np.array([4,5,6],dtype=\"int0\")\n",
    "\n",
    "a*b\n",
    "a*2\n",
    "b+2\n"
   ]
  },
  {
   "cell_type": "markdown",
   "metadata": {},
   "source": [
    "#### indexing and slicing "
   ]
  },
  {
   "cell_type": "code",
   "execution_count": 78,
   "metadata": {},
   "outputs": [
    {
     "data": {
      "text/plain": [
       "(2, 2, 3)"
      ]
     },
     "execution_count": 78,
     "metadata": {},
     "output_type": "execute_result"
    }
   ],
   "source": [
    "arr = np.arange(10)\n",
    "arr[0:5]\n",
    "arr[3:5]\n",
    "arr[1:5]=0\n",
    "arr\n",
    "\n",
    "# a=[1,2,3]\n",
    "# a[1:2]=0\n",
    "\n",
    "arr2d = np.array(([1,2,3],[4,5,6]))\n",
    "arr2d[0][0:2]\n",
    "arr2d[1][:]\n",
    "arr2d[1][0:2]\n",
    "arr3d = np.array([[[1, 2, 3], [4, 5, 6]], [[7, 8, 9], [10, 11, 12]]])\n",
    "arr3d.shape\n"
   ]
  }
 ],
 "metadata": {
  "interpreter": {
   "hash": "dc5c99c2466dfd7cfbb8cf018f0055358570a78f04eb8856aa1a5e99e3e45b54"
  },
  "kernelspec": {
   "display_name": "Python 3.9.7 ('base')",
   "language": "python",
   "name": "python3"
  },
  "language_info": {
   "codemirror_mode": {
    "name": "ipython",
    "version": 3
   },
   "file_extension": ".py",
   "mimetype": "text/x-python",
   "name": "python",
   "nbconvert_exporter": "python",
   "pygments_lexer": "ipython3",
   "version": "3.9.7"
  },
  "orig_nbformat": 4
 },
 "nbformat": 4,
 "nbformat_minor": 2
}
