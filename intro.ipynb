{
 "cells": [
  {
   "cell_type": "markdown",
   "metadata": {},
   "source": [
    "# Amount of python needed for DataAnalysis "
   ]
  },
  {
   "cell_type": "markdown",
   "metadata": {},
   "source": [
    "## Variables \n",
    "### -containers for storing data values\n"
   ]
  },
  {
   "cell_type": "code",
   "execution_count": 3,
   "metadata": {},
   "outputs": [
    {
     "name": "stdout",
     "output_type": "stream",
     "text": [
      "5\n",
      "name\n",
      "<class 'int'>\n",
      "<class 'str'>\n"
     ]
    }
   ],
   "source": [
    "x = 5 # type int \n",
    "y = \"name\" # type string \n",
    "print(x)\n",
    "print(y)\n",
    "print(type(x))# -- belongs to class type int \n",
    "print(type(y))# -- belongs to class type str [string]"
   ]
  },
  {
   "cell_type": "markdown",
   "metadata": {},
   "source": [
    "## String in Py "
   ]
  },
  {
   "cell_type": "code",
   "execution_count": 8,
   "metadata": {},
   "outputs": [
    {
     "name": "stdout",
     "output_type": "stream",
     "text": [
      "n\n",
      "a\n",
      "m\n",
      "e\n",
      "n\n",
      "a\n",
      "m\n",
      "e\n",
      "4\n"
     ]
    }
   ],
   "source": [
    "\"\"\"_summary_\n",
    "String in python are surrounded by either single quotes \n",
    "or double quotes eg 'hello' is same as \"hello\"\n",
    "\n",
    "\n",
    "\"\"\"\n",
    "s = \"name\"\n",
    "print(s[0])\n",
    "print(s[1])\n",
    "print(s[2])\n",
    "print(s[3])\n",
    "# each character can be accessed through indexing \n",
    "\n",
    "#looping \n",
    "\n",
    "for i in s:\n",
    "  print(i)\n",
    "\n",
    "\n",
    "# get the length \n",
    "size = len(s)\n",
    "print(size)  \n",
    "\n",
    "# check string \n",
    "\n"
   ]
  }
 ],
 "metadata": {
  "interpreter": {
   "hash": "dc5c99c2466dfd7cfbb8cf018f0055358570a78f04eb8856aa1a5e99e3e45b54"
  },
  "kernelspec": {
   "display_name": "Python 3.9.7 ('base')",
   "language": "python",
   "name": "python3"
  },
  "language_info": {
   "codemirror_mode": {
    "name": "ipython",
    "version": 3
   },
   "file_extension": ".py",
   "mimetype": "text/x-python",
   "name": "python",
   "nbconvert_exporter": "python",
   "pygments_lexer": "ipython3",
   "version": "3.9.7"
  },
  "orig_nbformat": 4
 },
 "nbformat": 4,
 "nbformat_minor": 2
}
