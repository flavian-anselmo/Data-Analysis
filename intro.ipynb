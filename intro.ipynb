{
 "cells": [
  {
   "cell_type": "markdown",
   "metadata": {},
   "source": [
    "# Amount of python needed for DataAnalysis "
   ]
  },
  {
   "cell_type": "markdown",
   "metadata": {},
   "source": [
    "## Variables \n",
    "### -containers for storing data values\n"
   ]
  },
  {
   "cell_type": "code",
   "execution_count": 3,
   "metadata": {},
   "outputs": [
    {
     "name": "stdout",
     "output_type": "stream",
     "text": [
      "5\n",
      "name\n",
      "<class 'int'>\n",
      "<class 'str'>\n"
     ]
    }
   ],
   "source": [
    "x = 5 # type int \n",
    "y = \"name\" # type string \n",
    "print(x)\n",
    "print(y)\n",
    "print(type(x))# -- belongs to class type int \n",
    "print(type(y))# -- belongs to class type str [string]"
   ]
  },
  {
   "cell_type": "markdown",
   "metadata": {},
   "source": [
    "## String in Py "
   ]
  },
  {
   "cell_type": "code",
   "execution_count": 8,
   "metadata": {},
   "outputs": [
    {
     "name": "stdout",
     "output_type": "stream",
     "text": [
      "n\n",
      "a\n",
      "m\n",
      "e\n",
      "n\n",
      "a\n",
      "m\n",
      "e\n",
      "4\n"
     ]
    }
   ],
   "source": [
    "\"\"\"_summary_\n",
    "String in python are surrounded by either single quotes \n",
    "or double quotes eg 'hello' is same as \"hello\"\n",
    "\n",
    "\n",
    "\"\"\"\n",
    "s = \"name\"\n",
    "print(s[0])\n",
    "print(s[1])\n",
    "print(s[2])\n",
    "print(s[3])\n",
    "# each character can be accessed through indexing \n",
    "\n",
    "#looping \n",
    "\n",
    "for i in s:\n",
    "  print(i)\n",
    "\n",
    "\n",
    "# get the length \n",
    "size = len(s)\n",
    "print(size)  \n",
    "\n",
    "# check string \n",
    "\n"
   ]
  },
  {
   "cell_type": "code",
   "execution_count": 9,
   "metadata": {},
   "outputs": [
    {
     "name": "stdout",
     "output_type": "stream",
     "text": [
      "Yes, 'free' is present.\n"
     ]
    }
   ],
   "source": [
    "txt = \"The best things in life are free!\"\n",
    "\n",
    "# if string \"free\" is in variable txt \n",
    "if \"free\" in txt:\n",
    "  print(\"Yes, 'free' is present.\")"
   ]
  },
  {
   "cell_type": "code",
   "execution_count": 11,
   "metadata": {},
   "outputs": [
    {
     "name": "stdout",
     "output_type": "stream",
     "text": [
      "0.6666666666666666\n",
      "0\n",
      "1.5\n",
      "1\n"
     ]
    }
   ],
   "source": [
    "# operators \n",
    "\"\"\"\n",
    "operators in python are the same with other langs \n",
    "\n",
    "+ -- addition \n",
    "- -- subtraction \n",
    "/ -- division\n",
    "% -- modulus \n",
    "// -- floor division \n",
    "\n",
    "\"\"\"\n",
    "\n",
    "# meaning of a floor division and the normal division \n",
    "\n",
    "print(2/3)# --will produce decimals \n",
    "\n",
    "print(2//3) # --no decimals\n",
    "\n",
    "print(3/2) # -- 1.5\n",
    "print(3//2)# -- 1\n"
   ]
  },
  {
   "cell_type": "code",
   "execution_count": 18,
   "metadata": {},
   "outputs": [
    {
     "name": "stdout",
     "output_type": "stream",
     "text": [
      "['Brian', 'paul', 'steph']\n",
      "[1, 2, 3, 4, 5]\n",
      "3\n",
      "5\n",
      "<class 'list'>\n",
      "<class 'list'>\n",
      "['Brian', 'paul', 'steph', 'Sonia']\n",
      "[1, 2, 3, 4, 5, 6]\n",
      "[2, 3, 4, 5, 6]\n",
      "['Brian', 'paul', 'Sonia']\n",
      "[2, 3, 4, 5, 6]\n",
      "['Brian', 'Sonia', 'paul']\n"
     ]
    }
   ],
   "source": [
    "\"\"\"_summary_\n",
    "Lists in python \n",
    "\n",
    "store multiple variables in a single variables \n",
    "a lists allows duplicates \n",
    "\n",
    "to get the length of the list use len() function \n",
    "\n",
    "\n",
    "\n",
    "\n",
    "\"\"\"\n",
    "\n",
    "students =[\"Brian\",\"paul\",\"steph\"] # list of strings\n",
    "print(students)\n",
    "\n",
    "nums = [1,2,3,4,5] # lists of nums \n",
    "print(nums)\n",
    "\n",
    "# len function \n",
    "\n",
    "print(len(students))\n",
    "print(len(nums))\n",
    "\n",
    "# to see the class type of the list \n",
    "\n",
    "print(type(students))\n",
    "print(type(nums))\n",
    "\n",
    "# adding items to the list \n",
    "\n",
    "students.append(\"Sonia\")\n",
    "nums.append(6)\n",
    "# print the updated list \n",
    "\n",
    "print(students)\n",
    "print(nums)\n",
    "\n",
    "# remove list items \n",
    "\n",
    "students.remove(\"steph\")\n",
    "nums.remove(1)\n",
    "\n",
    "# print the new list \n",
    "\n",
    "print(nums)\n",
    "print(students)\n",
    "\n",
    "\n",
    "# sorting the list \n",
    "\n",
    "nums.sort()\n",
    "students.sort()\n",
    "\n",
    "# print the sorted list \n",
    "print(nums)\n",
    "print(students)\n",
    "\n",
    "\n"
   ]
  },
  {
   "cell_type": "markdown",
   "metadata": {},
   "source": [
    "#### condtional Statements "
   ]
  },
  {
   "cell_type": "code",
   "execution_count": 19,
   "metadata": {},
   "outputs": [
    {
     "name": "stdout",
     "output_type": "stream",
     "text": [
      "b is greater than a\n"
     ]
    }
   ],
   "source": [
    "a = 33\n",
    "b = 200\n",
    "if b > a:\n",
    "  print(\"b is greater than a\")"
   ]
  },
  {
   "cell_type": "code",
   "execution_count": 20,
   "metadata": {},
   "outputs": [
    {
     "name": "stdout",
     "output_type": "stream",
     "text": [
      "a and b are equal\n"
     ]
    }
   ],
   "source": [
    "a = 33\n",
    "b = 33\n",
    "if b > a:\n",
    "  print(\"b is greater than a\")\n",
    "elif a == b:\n",
    "  print(\"a and b are equal\")"
   ]
  },
  {
   "cell_type": "code",
   "execution_count": 21,
   "metadata": {},
   "outputs": [
    {
     "name": "stdout",
     "output_type": "stream",
     "text": [
      "a is greater than b\n"
     ]
    }
   ],
   "source": [
    "a = 200\n",
    "b = 33\n",
    "if b > a:\n",
    "  print(\"b is greater than a\")\n",
    "elif a == b:\n",
    "  print(\"a and b are equal\")\n",
    "else:\n",
    "  print(\"a is greater than b\")"
   ]
  },
  {
   "cell_type": "markdown",
   "metadata": {},
   "source": [
    "#### Looping"
   ]
  },
  {
   "cell_type": "code",
   "execution_count": 22,
   "metadata": {},
   "outputs": [
    {
     "name": "stdout",
     "output_type": "stream",
     "text": [
      "apple\n",
      "banana\n",
      "cherry\n"
     ]
    }
   ],
   "source": [
    "fruits = [\"apple\", \"banana\", \"cherry\"]\n",
    "for x in fruits:\n",
    "  print(x)"
   ]
  },
  {
   "cell_type": "markdown",
   "metadata": {},
   "source": [
    "#### Functions\n",
    " use the def key word to define a function  \n"
   ]
  },
  {
   "cell_type": "code",
   "execution_count": 23,
   "metadata": {},
   "outputs": [
    {
     "name": "stdout",
     "output_type": "stream",
     "text": [
      "Hello from a function\n"
     ]
    }
   ],
   "source": [
    "def my_function():# function definition \n",
    "  print(\"Hello from a function\")\n",
    "\n",
    "my_function()# -->function call "
   ]
  }
 ],
 "metadata": {
  "interpreter": {
   "hash": "dc5c99c2466dfd7cfbb8cf018f0055358570a78f04eb8856aa1a5e99e3e45b54"
  },
  "kernelspec": {
   "display_name": "Python 3.9.7 ('base')",
   "language": "python",
   "name": "python3"
  },
  "language_info": {
   "codemirror_mode": {
    "name": "ipython",
    "version": 3
   },
   "file_extension": ".py",
   "mimetype": "text/x-python",
   "name": "python",
   "nbconvert_exporter": "python",
   "pygments_lexer": "ipython3",
   "version": "3.9.7"
  },
  "orig_nbformat": 4
 },
 "nbformat": 4,
 "nbformat_minor": 2
}
